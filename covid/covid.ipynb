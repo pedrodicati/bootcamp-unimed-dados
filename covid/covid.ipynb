{
 "cells": [
  {
   "cell_type": "markdown",
   "metadata": {},
   "source": [
    "# Desafio de projeto: COVID-19\n",
    "\n",
    "Desafio de projeto elaborado para a plataforma Digital Inovation One, onde é simulado o início do desenvolvimento do trabalho de um cientista de dados.\n",
    "\n",
    "- Índice\n",
    "\n",
    "1. Importando dados e bibliotecas\n",
    "2. Tratamento dos dados\n",
    "    1. Renomeando colunas\n",
    "    2. Separando os dados\n",
    "3. Visualizando os dados\n",
    "    1. Montando um gráfico do aumento de caso por dia\n",
    "    2. Quantos casos novos por dia?\n",
    "    3. Quantas mortes aumenta por dia?"
   ]
  },
  {
   "cell_type": "markdown",
   "metadata": {},
   "source": [
    "## 1. Importando dados e bibliotecas\n",
    "\n",
    "Aqui realizamos os *imports* e lemos o dado que vamos analisar, que no caso é o *dataset* do COVID-19."
   ]
  },
  {
   "cell_type": "code",
   "execution_count": 2,
   "metadata": {},
   "outputs": [],
   "source": [
    "import pandas as pd\n",
    "import numpy as np\n",
    "import plotly.express as px\n",
    "import plotly.graph_objects as pgo\n",
    "import seaborn as sns"
   ]
  },
  {
   "cell_type": "code",
   "execution_count": 3,
   "metadata": {},
   "outputs": [
    {
     "data": {
      "text/html": [
       "<div>\n",
       "<style scoped>\n",
       "    .dataframe tbody tr th:only-of-type {\n",
       "        vertical-align: middle;\n",
       "    }\n",
       "\n",
       "    .dataframe tbody tr th {\n",
       "        vertical-align: top;\n",
       "    }\n",
       "\n",
       "    .dataframe thead th {\n",
       "        text-align: right;\n",
       "    }\n",
       "</style>\n",
       "<table border=\"1\" class=\"dataframe\">\n",
       "  <thead>\n",
       "    <tr style=\"text-align: right;\">\n",
       "      <th></th>\n",
       "      <th>SNo</th>\n",
       "      <th>ObservationDate</th>\n",
       "      <th>Province/State</th>\n",
       "      <th>Country/Region</th>\n",
       "      <th>Last Update</th>\n",
       "      <th>Confirmed</th>\n",
       "      <th>Deaths</th>\n",
       "      <th>Recovered</th>\n",
       "    </tr>\n",
       "  </thead>\n",
       "  <tbody>\n",
       "    <tr>\n",
       "      <th>0</th>\n",
       "      <td>1</td>\n",
       "      <td>2020-01-22</td>\n",
       "      <td>Anhui</td>\n",
       "      <td>Mainland China</td>\n",
       "      <td>2020-01-22 17:00:00</td>\n",
       "      <td>1.0</td>\n",
       "      <td>0.0</td>\n",
       "      <td>0.0</td>\n",
       "    </tr>\n",
       "    <tr>\n",
       "      <th>1</th>\n",
       "      <td>2</td>\n",
       "      <td>2020-01-22</td>\n",
       "      <td>Beijing</td>\n",
       "      <td>Mainland China</td>\n",
       "      <td>2020-01-22 17:00:00</td>\n",
       "      <td>14.0</td>\n",
       "      <td>0.0</td>\n",
       "      <td>0.0</td>\n",
       "    </tr>\n",
       "    <tr>\n",
       "      <th>2</th>\n",
       "      <td>3</td>\n",
       "      <td>2020-01-22</td>\n",
       "      <td>Chongqing</td>\n",
       "      <td>Mainland China</td>\n",
       "      <td>2020-01-22 17:00:00</td>\n",
       "      <td>6.0</td>\n",
       "      <td>0.0</td>\n",
       "      <td>0.0</td>\n",
       "    </tr>\n",
       "    <tr>\n",
       "      <th>3</th>\n",
       "      <td>4</td>\n",
       "      <td>2020-01-22</td>\n",
       "      <td>Fujian</td>\n",
       "      <td>Mainland China</td>\n",
       "      <td>2020-01-22 17:00:00</td>\n",
       "      <td>1.0</td>\n",
       "      <td>0.0</td>\n",
       "      <td>0.0</td>\n",
       "    </tr>\n",
       "    <tr>\n",
       "      <th>4</th>\n",
       "      <td>5</td>\n",
       "      <td>2020-01-22</td>\n",
       "      <td>Gansu</td>\n",
       "      <td>Mainland China</td>\n",
       "      <td>2020-01-22 17:00:00</td>\n",
       "      <td>0.0</td>\n",
       "      <td>0.0</td>\n",
       "      <td>0.0</td>\n",
       "    </tr>\n",
       "  </tbody>\n",
       "</table>\n",
       "</div>"
      ],
      "text/plain": [
       "   SNo ObservationDate Province/State  Country/Region         Last Update  \\\n",
       "0    1      2020-01-22          Anhui  Mainland China 2020-01-22 17:00:00   \n",
       "1    2      2020-01-22        Beijing  Mainland China 2020-01-22 17:00:00   \n",
       "2    3      2020-01-22      Chongqing  Mainland China 2020-01-22 17:00:00   \n",
       "3    4      2020-01-22         Fujian  Mainland China 2020-01-22 17:00:00   \n",
       "4    5      2020-01-22          Gansu  Mainland China 2020-01-22 17:00:00   \n",
       "\n",
       "   Confirmed  Deaths  Recovered  \n",
       "0        1.0     0.0        0.0  \n",
       "1       14.0     0.0        0.0  \n",
       "2        6.0     0.0        0.0  \n",
       "3        1.0     0.0        0.0  \n",
       "4        0.0     0.0        0.0  "
      ]
     },
     "execution_count": 3,
     "metadata": {},
     "output_type": "execute_result"
    }
   ],
   "source": [
    "# aqui já realizamos a importação do dataset com as colunas de datas formatas me datetime\n",
    "\n",
    "df = pd.read_csv(\"covid_19_data.csv\", parse_dates=['ObservationDate', 'Last Update'])\n",
    "\n",
    "df.head()"
   ]
  },
  {
   "cell_type": "code",
   "execution_count": 4,
   "metadata": {},
   "outputs": [
    {
     "data": {
      "text/plain": [
       "SNo                         int64\n",
       "ObservationDate    datetime64[ns]\n",
       "Province/State             object\n",
       "Country/Region             object\n",
       "Last Update        datetime64[ns]\n",
       "Confirmed                 float64\n",
       "Deaths                    float64\n",
       "Recovered                 float64\n",
       "dtype: object"
      ]
     },
     "execution_count": 4,
     "metadata": {},
     "output_type": "execute_result"
    }
   ],
   "source": [
    "df.dtypes"
   ]
  },
  {
   "cell_type": "markdown",
   "metadata": {},
   "source": [
    "## 2. Tratamento dos Dados\n",
    "\n",
    "Nesta seção iremos realizar alguns tratamentos dos dados, onde nos trará melhores resultados em nossas análises e nos possibilitará visualizar mais facilmente os dados."
   ]
  },
  {
   "cell_type": "markdown",
   "metadata": {},
   "source": [
    "### 2.1. Renomeando colunas\n",
    "\n",
    "Por convenção, iremos renomear colunas e dar nomes que não nos darão possíveis erros. Nomes de colunas com espaços, letras maiúsculas ou caracteres especiais, podem nos trazer problemas, então iremos tratar essas informações para evitar tempo para buscar soluções de demais problemas."
   ]
  },
  {
   "cell_type": "code",
   "execution_count": 5,
   "metadata": {},
   "outputs": [
    {
     "data": {
      "text/plain": [
       "Index(['SNo', 'ObservationDate', 'Province/State', 'Country/Region',\n",
       "       'Last Update', 'Confirmed', 'Deaths', 'Recovered'],\n",
       "      dtype='object')"
      ]
     },
     "execution_count": 5,
     "metadata": {},
     "output_type": "execute_result"
    }
   ],
   "source": [
    "df.columns"
   ]
  },
  {
   "cell_type": "code",
   "execution_count": 6,
   "metadata": {},
   "outputs": [],
   "source": [
    "df = df.rename({\"SNo\": \"sno\", \"ObservationDate\": \"data_observacao\", \"Province/State\": \"provincia_estado\",\n",
    "            \"Country/Region\": \"pais_regiao\", \"Last Update\": \"ultimo_update\", \"Confirmed\": \"confirmado\", \"Deaths\": \"mortes\",\n",
    "            \"Recovered\": \"recuperado\"}, axis=1)"
   ]
  },
  {
   "cell_type": "markdown",
   "metadata": {},
   "source": [
    "### 2.2. Separando os dados\n",
    "\n",
    "Nesta seção iremos realizar a separação dos dados que queremos utilizar e analisar. Selecionando somente o Brasil. Então iremos manipular o dataframe *df*, para que ele nos dê somente os dados do Brasil, e assim poderemos realizar as nossas análises e predições."
   ]
  },
  {
   "cell_type": "code",
   "execution_count": 7,
   "metadata": {},
   "outputs": [
    {
     "data": {
      "text/plain": [
       "array(['Mainland China', 'Hong Kong', 'Macau', 'Taiwan', 'US', 'Japan',\n",
       "       'Thailand', 'South Korea', 'China', 'Kiribati', 'Singapore',\n",
       "       'Philippines', 'Malaysia', 'Vietnam', 'Australia', 'Mexico',\n",
       "       'Brazil', 'Colombia', 'France', 'Nepal', 'Canada', 'Cambodia',\n",
       "       'Sri Lanka', 'Ivory Coast', 'Germany', 'Finland',\n",
       "       'United Arab Emirates', 'India', 'Italy', 'UK', 'Russia', 'Sweden',\n",
       "       'Spain', 'Belgium', 'Others', 'Egypt', 'Iran', 'Israel', 'Lebanon',\n",
       "       'Iraq', 'Oman', 'Afghanistan', 'Bahrain', 'Kuwait', 'Austria',\n",
       "       'Algeria', 'Croatia', 'Switzerland', 'Pakistan', 'Georgia',\n",
       "       'Greece', 'North Macedonia', 'Norway', 'Romania', 'Denmark',\n",
       "       'Estonia', 'Netherlands', 'San Marino', ' Azerbaijan', 'Belarus',\n",
       "       'Iceland', 'Lithuania', 'New Zealand', 'Nigeria', 'North Ireland',\n",
       "       'Ireland', 'Luxembourg', 'Monaco', 'Qatar', 'Ecuador',\n",
       "       'Azerbaijan', 'Czech Republic', 'Armenia', 'Dominican Republic',\n",
       "       'Indonesia', 'Portugal', 'Andorra', 'Latvia', 'Morocco',\n",
       "       'Saudi Arabia', 'Senegal', 'Argentina', 'Chile', 'Jordan',\n",
       "       'Ukraine', 'Saint Barthelemy', 'Hungary', 'Faroe Islands',\n",
       "       'Gibraltar', 'Liechtenstein', 'Poland', 'Tunisia', 'Palestine',\n",
       "       'Bosnia and Herzegovina', 'Slovenia', 'South Africa', 'Bhutan',\n",
       "       'Cameroon', 'Costa Rica', 'Peru', 'Serbia', 'Slovakia', 'Togo',\n",
       "       'Vatican City', 'French Guiana', 'Malta', 'Martinique',\n",
       "       'Republic of Ireland', 'Bulgaria', 'Maldives', 'Bangladesh',\n",
       "       'Moldova', 'Paraguay', 'Albania', 'Cyprus', 'St. Martin', 'Brunei',\n",
       "       'occupied Palestinian territory', \"('St. Martin',)\",\n",
       "       'Burkina Faso', 'Channel Islands', 'Holy See', 'Mongolia',\n",
       "       'Panama', 'Bolivia', 'Honduras', 'Congo (Kinshasa)', 'Jamaica',\n",
       "       'Reunion', 'Turkey', 'Cuba', 'Guyana', 'Kazakhstan',\n",
       "       'Cayman Islands', 'Guadeloupe', 'Ethiopia', 'Sudan', 'Guinea',\n",
       "       'Antigua and Barbuda', 'Aruba', 'Kenya', 'Uruguay', 'Ghana',\n",
       "       'Jersey', 'Namibia', 'Seychelles', 'Trinidad and Tobago',\n",
       "       'Venezuela', 'Curacao', 'Eswatini', 'Gabon', 'Guatemala',\n",
       "       'Guernsey', 'Mauritania', 'Rwanda', 'Saint Lucia',\n",
       "       'Saint Vincent and the Grenadines', 'Suriname', 'Kosovo',\n",
       "       'Central African Republic', 'Congo (Brazzaville)',\n",
       "       'Equatorial Guinea', 'Uzbekistan', 'Guam', 'Puerto Rico', 'Benin',\n",
       "       'Greenland', 'Liberia', 'Mayotte', 'Republic of the Congo',\n",
       "       'Somalia', 'Tanzania', 'The Bahamas', 'Barbados', 'Montenegro',\n",
       "       'The Gambia', 'Kyrgyzstan', 'Mauritius', 'Zambia', 'Djibouti',\n",
       "       'Gambia, The', 'Bahamas, The', 'Chad', 'El Salvador', 'Fiji',\n",
       "       'Nicaragua', 'Madagascar', 'Haiti', 'Angola', 'Cabo Verde',\n",
       "       'Niger', 'Papua New Guinea', 'Zimbabwe', 'Cape Verde',\n",
       "       'East Timor', 'Eritrea', 'Uganda', 'Bahamas', 'Dominica', 'Gambia',\n",
       "       'Grenada', 'Mozambique', 'Samoa', 'Syria', 'Timor-Leste', 'Belize',\n",
       "       'Laos', 'Libya', 'Diamond Princess', 'Guinea-Bissau', 'Mali',\n",
       "       'Saint Kitts and Nevis', 'West Bank and Gaza', 'Burma',\n",
       "       'MS Zaandam', 'Botswana', 'Burundi', 'Sierra Leone', 'Malawi',\n",
       "       'South Sudan', 'Sao Tome and Principe', 'Yemen', 'Comoros',\n",
       "       'Tajikistan', 'Lesotho', 'Solomon Islands', 'Marshall Islands',\n",
       "       'Vanuatu', 'Micronesia'], dtype=object)"
      ]
     },
     "execution_count": 7,
     "metadata": {},
     "output_type": "execute_result"
    }
   ],
   "source": [
    "df[\"pais_regiao\"].unique()"
   ]
  },
  {
   "cell_type": "code",
   "execution_count": 27,
   "metadata": {},
   "outputs": [],
   "source": [
    "# loc -> realiza um \"corte\" no dataframe original\n",
    "# no caso, pega somente os dados do pais Brazil e que tem casos confirmados maior que 0\n",
    "# os dados estavam meio quebrado no meio, então recortei somente a parte mais recente dos dados\n",
    "\n",
    "df_brasil = df.loc[(df[\"pais_regiao\"] == 'Brazil') & (df[\"confirmado\"] > 0) & (df[\"data_observacao\"] < '2020-05-20')]"
   ]
  },
  {
   "cell_type": "markdown",
   "metadata": {},
   "source": [
    "## 3. Visualizando os dados\n",
    "\n",
    "Agora com os dados que queremos em mãos, vamos começar a visualizar e analisá-los para entender algumas movimentações existentes neles."
   ]
  },
  {
   "cell_type": "code",
   "execution_count": 31,
   "metadata": {},
   "outputs": [
    {
     "data": {
      "text/html": [
       "<div>\n",
       "<style scoped>\n",
       "    .dataframe tbody tr th:only-of-type {\n",
       "        vertical-align: middle;\n",
       "    }\n",
       "\n",
       "    .dataframe tbody tr th {\n",
       "        vertical-align: top;\n",
       "    }\n",
       "\n",
       "    .dataframe thead th {\n",
       "        text-align: right;\n",
       "    }\n",
       "</style>\n",
       "<table border=\"1\" class=\"dataframe\">\n",
       "  <thead>\n",
       "    <tr style=\"text-align: right;\">\n",
       "      <th></th>\n",
       "      <th>sno</th>\n",
       "      <th>data_observacao</th>\n",
       "      <th>provincia_estado</th>\n",
       "      <th>pais_regiao</th>\n",
       "      <th>ultimo_update</th>\n",
       "      <th>confirmado</th>\n",
       "      <th>mortes</th>\n",
       "      <th>recuperado</th>\n",
       "    </tr>\n",
       "  </thead>\n",
       "  <tbody>\n",
       "    <tr>\n",
       "      <th>2525</th>\n",
       "      <td>2526</td>\n",
       "      <td>2020-02-26</td>\n",
       "      <td>NaN</td>\n",
       "      <td>Brazil</td>\n",
       "      <td>2020-02-26 23:53:02</td>\n",
       "      <td>1.0</td>\n",
       "      <td>0.0</td>\n",
       "      <td>0.0</td>\n",
       "    </tr>\n",
       "    <tr>\n",
       "      <th>2631</th>\n",
       "      <td>2632</td>\n",
       "      <td>2020-02-27</td>\n",
       "      <td>NaN</td>\n",
       "      <td>Brazil</td>\n",
       "      <td>2020-02-26 23:53:02</td>\n",
       "      <td>1.0</td>\n",
       "      <td>0.0</td>\n",
       "      <td>0.0</td>\n",
       "    </tr>\n",
       "    <tr>\n",
       "      <th>2742</th>\n",
       "      <td>2743</td>\n",
       "      <td>2020-02-28</td>\n",
       "      <td>NaN</td>\n",
       "      <td>Brazil</td>\n",
       "      <td>2020-02-26 23:53:02</td>\n",
       "      <td>1.0</td>\n",
       "      <td>0.0</td>\n",
       "      <td>0.0</td>\n",
       "    </tr>\n",
       "    <tr>\n",
       "      <th>2852</th>\n",
       "      <td>2853</td>\n",
       "      <td>2020-02-29</td>\n",
       "      <td>NaN</td>\n",
       "      <td>Brazil</td>\n",
       "      <td>2020-02-29 21:03:05</td>\n",
       "      <td>2.0</td>\n",
       "      <td>0.0</td>\n",
       "      <td>0.0</td>\n",
       "    </tr>\n",
       "    <tr>\n",
       "      <th>2981</th>\n",
       "      <td>2982</td>\n",
       "      <td>2020-03-01</td>\n",
       "      <td>NaN</td>\n",
       "      <td>Brazil</td>\n",
       "      <td>2020-02-29 21:03:05</td>\n",
       "      <td>2.0</td>\n",
       "      <td>0.0</td>\n",
       "      <td>0.0</td>\n",
       "    </tr>\n",
       "    <tr>\n",
       "      <th>...</th>\n",
       "      <td>...</td>\n",
       "      <td>...</td>\n",
       "      <td>...</td>\n",
       "      <td>...</td>\n",
       "      <td>...</td>\n",
       "      <td>...</td>\n",
       "      <td>...</td>\n",
       "      <td>...</td>\n",
       "    </tr>\n",
       "    <tr>\n",
       "      <th>25194</th>\n",
       "      <td>25195</td>\n",
       "      <td>2020-05-15</td>\n",
       "      <td>NaN</td>\n",
       "      <td>Brazil</td>\n",
       "      <td>2021-04-02 15:13:53</td>\n",
       "      <td>220291.0</td>\n",
       "      <td>14962.0</td>\n",
       "      <td>84970.0</td>\n",
       "    </tr>\n",
       "    <tr>\n",
       "      <th>25575</th>\n",
       "      <td>25576</td>\n",
       "      <td>2020-05-16</td>\n",
       "      <td>NaN</td>\n",
       "      <td>Brazil</td>\n",
       "      <td>2021-04-02 15:13:53</td>\n",
       "      <td>233511.0</td>\n",
       "      <td>15662.0</td>\n",
       "      <td>89672.0</td>\n",
       "    </tr>\n",
       "    <tr>\n",
       "      <th>25956</th>\n",
       "      <td>25957</td>\n",
       "      <td>2020-05-17</td>\n",
       "      <td>NaN</td>\n",
       "      <td>Brazil</td>\n",
       "      <td>2021-04-02 15:13:53</td>\n",
       "      <td>241080.0</td>\n",
       "      <td>16118.0</td>\n",
       "      <td>94122.0</td>\n",
       "    </tr>\n",
       "    <tr>\n",
       "      <th>26337</th>\n",
       "      <td>26338</td>\n",
       "      <td>2020-05-18</td>\n",
       "      <td>NaN</td>\n",
       "      <td>Brazil</td>\n",
       "      <td>2021-04-02 15:13:53</td>\n",
       "      <td>255368.0</td>\n",
       "      <td>16853.0</td>\n",
       "      <td>100459.0</td>\n",
       "    </tr>\n",
       "    <tr>\n",
       "      <th>26718</th>\n",
       "      <td>26719</td>\n",
       "      <td>2020-05-19</td>\n",
       "      <td>NaN</td>\n",
       "      <td>Brazil</td>\n",
       "      <td>2021-04-02 15:13:53</td>\n",
       "      <td>271885.0</td>\n",
       "      <td>17983.0</td>\n",
       "      <td>106794.0</td>\n",
       "    </tr>\n",
       "  </tbody>\n",
       "</table>\n",
       "<p>84 rows × 8 columns</p>\n",
       "</div>"
      ],
      "text/plain": [
       "         sno data_observacao provincia_estado pais_regiao       ultimo_update  \\\n",
       "2525    2526      2020-02-26              NaN      Brazil 2020-02-26 23:53:02   \n",
       "2631    2632      2020-02-27              NaN      Brazil 2020-02-26 23:53:02   \n",
       "2742    2743      2020-02-28              NaN      Brazil 2020-02-26 23:53:02   \n",
       "2852    2853      2020-02-29              NaN      Brazil 2020-02-29 21:03:05   \n",
       "2981    2982      2020-03-01              NaN      Brazil 2020-02-29 21:03:05   \n",
       "...      ...             ...              ...         ...                 ...   \n",
       "25194  25195      2020-05-15              NaN      Brazil 2021-04-02 15:13:53   \n",
       "25575  25576      2020-05-16              NaN      Brazil 2021-04-02 15:13:53   \n",
       "25956  25957      2020-05-17              NaN      Brazil 2021-04-02 15:13:53   \n",
       "26337  26338      2020-05-18              NaN      Brazil 2021-04-02 15:13:53   \n",
       "26718  26719      2020-05-19              NaN      Brazil 2021-04-02 15:13:53   \n",
       "\n",
       "       confirmado   mortes  recuperado  \n",
       "2525          1.0      0.0         0.0  \n",
       "2631          1.0      0.0         0.0  \n",
       "2742          1.0      0.0         0.0  \n",
       "2852          2.0      0.0         0.0  \n",
       "2981          2.0      0.0         0.0  \n",
       "...           ...      ...         ...  \n",
       "25194    220291.0  14962.0     84970.0  \n",
       "25575    233511.0  15662.0     89672.0  \n",
       "25956    241080.0  16118.0     94122.0  \n",
       "26337    255368.0  16853.0    100459.0  \n",
       "26718    271885.0  17983.0    106794.0  \n",
       "\n",
       "[84 rows x 8 columns]"
      ]
     },
     "execution_count": 31,
     "metadata": {},
     "output_type": "execute_result"
    }
   ],
   "source": [
    "df_brasil"
   ]
  },
  {
   "cell_type": "markdown",
   "metadata": {},
   "source": [
    "### 3.1. Gráfico"
   ]
  },
  {
   "cell_type": "code",
   "execution_count": 39,
   "metadata": {},
   "outputs": [
    {
     "data": {
      "text/plain": [
       "<seaborn.axisgrid.FacetGrid at 0x7fb4526f1180>"
      ]
     },
     "execution_count": 39,
     "metadata": {},
     "output_type": "execute_result"
    },
    {
     "data": {
      "image/png": "[encoded data removed]",
      "text/plain": [
       "<Figure size 1500x500 with 1 Axes>"
      ]
     },
     "metadata": {},
     "output_type": "display_data"
    }
   ],
   "source": [
    "sns.relplot(data=df_brasil, x='data_observacao', y='confirmado', kind='line', errorbar=None, aspect=3)"
   ]
  },
  {
   "cell_type": "markdown",
   "metadata": {},
   "source": [
    "### 3.2. \n",
    "\n",
    "Criar nova coluna com o aumento de dados por dia"
   ]
  },
  {
   "cell_type": "code",
   "execution_count": 32,
   "metadata": {},
   "outputs": [
    {
     "name": "stderr",
     "output_type": "stream",
     "text": [
      "/tmp/ipykernel_11635/1208397375.py:1: SettingWithCopyWarning:\n",
      "\n",
      "\n",
      "A value is trying to be set on a copy of a slice from a DataFrame.\n",
      "Try using .loc[row_indexer,col_indexer] = value instead\n",
      "\n",
      "See the caveats in the documentation: https://pandas.pydata.org/pandas-docs/stable/user_guide/indexing.html#returning-a-view-versus-a-copy\n",
      "\n"
     ]
    }
   ],
   "source": [
    "df_brasil['novos_casos'] = list(map(lambda x: 0 if(x == 0) else df_brasil['confirmado'].iloc[x] - df_brasil['confirmado'].iloc[x - 1], np.arange(df_brasil.shape[0])))"
   ]
  },
  {
   "cell_type": "code",
   "execution_count": 33,
   "metadata": {},
   "outputs": [
    {
     "data": {
      "text/html": [
       "<div>\n",
       "<style scoped>\n",
       "    .dataframe tbody tr th:only-of-type {\n",
       "        vertical-align: middle;\n",
       "    }\n",
       "\n",
       "    .dataframe tbody tr th {\n",
       "        vertical-align: top;\n",
       "    }\n",
       "\n",
       "    .dataframe thead th {\n",
       "        text-align: right;\n",
       "    }\n",
       "</style>\n",
       "<table border=\"1\" class=\"dataframe\">\n",
       "  <thead>\n",
       "    <tr style=\"text-align: right;\">\n",
       "      <th></th>\n",
       "      <th>sno</th>\n",
       "      <th>data_observacao</th>\n",
       "      <th>provincia_estado</th>\n",
       "      <th>pais_regiao</th>\n",
       "      <th>ultimo_update</th>\n",
       "      <th>confirmado</th>\n",
       "      <th>mortes</th>\n",
       "      <th>recuperado</th>\n",
       "      <th>novos_casos</th>\n",
       "    </tr>\n",
       "  </thead>\n",
       "  <tbody>\n",
       "    <tr>\n",
       "      <th>2525</th>\n",
       "      <td>2526</td>\n",
       "      <td>2020-02-26</td>\n",
       "      <td>NaN</td>\n",
       "      <td>Brazil</td>\n",
       "      <td>2020-02-26 23:53:02</td>\n",
       "      <td>1.0</td>\n",
       "      <td>0.0</td>\n",
       "      <td>0.0</td>\n",
       "      <td>0.0</td>\n",
       "    </tr>\n",
       "    <tr>\n",
       "      <th>2631</th>\n",
       "      <td>2632</td>\n",
       "      <td>2020-02-27</td>\n",
       "      <td>NaN</td>\n",
       "      <td>Brazil</td>\n",
       "      <td>2020-02-26 23:53:02</td>\n",
       "      <td>1.0</td>\n",
       "      <td>0.0</td>\n",
       "      <td>0.0</td>\n",
       "      <td>0.0</td>\n",
       "    </tr>\n",
       "    <tr>\n",
       "      <th>2742</th>\n",
       "      <td>2743</td>\n",
       "      <td>2020-02-28</td>\n",
       "      <td>NaN</td>\n",
       "      <td>Brazil</td>\n",
       "      <td>2020-02-26 23:53:02</td>\n",
       "      <td>1.0</td>\n",
       "      <td>0.0</td>\n",
       "      <td>0.0</td>\n",
       "      <td>0.0</td>\n",
       "    </tr>\n",
       "    <tr>\n",
       "      <th>2852</th>\n",
       "      <td>2853</td>\n",
       "      <td>2020-02-29</td>\n",
       "      <td>NaN</td>\n",
       "      <td>Brazil</td>\n",
       "      <td>2020-02-29 21:03:05</td>\n",
       "      <td>2.0</td>\n",
       "      <td>0.0</td>\n",
       "      <td>0.0</td>\n",
       "      <td>1.0</td>\n",
       "    </tr>\n",
       "    <tr>\n",
       "      <th>2981</th>\n",
       "      <td>2982</td>\n",
       "      <td>2020-03-01</td>\n",
       "      <td>NaN</td>\n",
       "      <td>Brazil</td>\n",
       "      <td>2020-02-29 21:03:05</td>\n",
       "      <td>2.0</td>\n",
       "      <td>0.0</td>\n",
       "      <td>0.0</td>\n",
       "      <td>0.0</td>\n",
       "    </tr>\n",
       "    <tr>\n",
       "      <th>...</th>\n",
       "      <td>...</td>\n",
       "      <td>...</td>\n",
       "      <td>...</td>\n",
       "      <td>...</td>\n",
       "      <td>...</td>\n",
       "      <td>...</td>\n",
       "      <td>...</td>\n",
       "      <td>...</td>\n",
       "      <td>...</td>\n",
       "    </tr>\n",
       "    <tr>\n",
       "      <th>25194</th>\n",
       "      <td>25195</td>\n",
       "      <td>2020-05-15</td>\n",
       "      <td>NaN</td>\n",
       "      <td>Brazil</td>\n",
       "      <td>2021-04-02 15:13:53</td>\n",
       "      <td>220291.0</td>\n",
       "      <td>14962.0</td>\n",
       "      <td>84970.0</td>\n",
       "      <td>17126.0</td>\n",
       "    </tr>\n",
       "    <tr>\n",
       "      <th>25575</th>\n",
       "      <td>25576</td>\n",
       "      <td>2020-05-16</td>\n",
       "      <td>NaN</td>\n",
       "      <td>Brazil</td>\n",
       "      <td>2021-04-02 15:13:53</td>\n",
       "      <td>233511.0</td>\n",
       "      <td>15662.0</td>\n",
       "      <td>89672.0</td>\n",
       "      <td>13220.0</td>\n",
       "    </tr>\n",
       "    <tr>\n",
       "      <th>25956</th>\n",
       "      <td>25957</td>\n",
       "      <td>2020-05-17</td>\n",
       "      <td>NaN</td>\n",
       "      <td>Brazil</td>\n",
       "      <td>2021-04-02 15:13:53</td>\n",
       "      <td>241080.0</td>\n",
       "      <td>16118.0</td>\n",
       "      <td>94122.0</td>\n",
       "      <td>7569.0</td>\n",
       "    </tr>\n",
       "    <tr>\n",
       "      <th>26337</th>\n",
       "      <td>26338</td>\n",
       "      <td>2020-05-18</td>\n",
       "      <td>NaN</td>\n",
       "      <td>Brazil</td>\n",
       "      <td>2021-04-02 15:13:53</td>\n",
       "      <td>255368.0</td>\n",
       "      <td>16853.0</td>\n",
       "      <td>100459.0</td>\n",
       "      <td>14288.0</td>\n",
       "    </tr>\n",
       "    <tr>\n",
       "      <th>26718</th>\n",
       "      <td>26719</td>\n",
       "      <td>2020-05-19</td>\n",
       "      <td>NaN</td>\n",
       "      <td>Brazil</td>\n",
       "      <td>2021-04-02 15:13:53</td>\n",
       "      <td>271885.0</td>\n",
       "      <td>17983.0</td>\n",
       "      <td>106794.0</td>\n",
       "      <td>16517.0</td>\n",
       "    </tr>\n",
       "  </tbody>\n",
       "</table>\n",
       "<p>84 rows × 9 columns</p>\n",
       "</div>"
      ],
      "text/plain": [
       "         sno data_observacao provincia_estado pais_regiao       ultimo_update  \\\n",
       "2525    2526      2020-02-26              NaN      Brazil 2020-02-26 23:53:02   \n",
       "2631    2632      2020-02-27              NaN      Brazil 2020-02-26 23:53:02   \n",
       "2742    2743      2020-02-28              NaN      Brazil 2020-02-26 23:53:02   \n",
       "2852    2853      2020-02-29              NaN      Brazil 2020-02-29 21:03:05   \n",
       "2981    2982      2020-03-01              NaN      Brazil 2020-02-29 21:03:05   \n",
       "...      ...             ...              ...         ...                 ...   \n",
       "25194  25195      2020-05-15              NaN      Brazil 2021-04-02 15:13:53   \n",
       "25575  25576      2020-05-16              NaN      Brazil 2021-04-02 15:13:53   \n",
       "25956  25957      2020-05-17              NaN      Brazil 2021-04-02 15:13:53   \n",
       "26337  26338      2020-05-18              NaN      Brazil 2021-04-02 15:13:53   \n",
       "26718  26719      2020-05-19              NaN      Brazil 2021-04-02 15:13:53   \n",
       "\n",
       "       confirmado   mortes  recuperado  novos_casos  \n",
       "2525          1.0      0.0         0.0          0.0  \n",
       "2631          1.0      0.0         0.0          0.0  \n",
       "2742          1.0      0.0         0.0          0.0  \n",
       "2852          2.0      0.0         0.0          1.0  \n",
       "2981          2.0      0.0         0.0          0.0  \n",
       "...           ...      ...         ...          ...  \n",
       "25194    220291.0  14962.0     84970.0      17126.0  \n",
       "25575    233511.0  15662.0     89672.0      13220.0  \n",
       "25956    241080.0  16118.0     94122.0       7569.0  \n",
       "26337    255368.0  16853.0    100459.0      14288.0  \n",
       "26718    271885.0  17983.0    106794.0      16517.0  \n",
       "\n",
       "[84 rows x 9 columns]"
      ]
     },
     "execution_count": 33,
     "metadata": {},
     "output_type": "execute_result"
    }
   ],
   "source": [
    "df_brasil"
   ]
  },
  {
   "cell_type": "code",
   "execution_count": 38,
   "metadata": {},
   "outputs": [
    {
     "data": {
      "text/plain": [
       "<seaborn.axisgrid.FacetGrid at 0x7fb4525d77f0>"
      ]
     },
     "execution_count": 38,
     "metadata": {},
     "output_type": "execute_result"
    },
    {
     "data": {
      "image/png": "[encoded data removed]",
      "text/plain": [
       "<Figure size 1500x500 with 1 Axes>"
      ]
     },
     "metadata": {},
     "output_type": "display_data"
    }
   ],
   "source": [
    "sns.relplot(data=df_brasil, x=\"data_observacao\", y=\"novos_casos\", kind=\"line\", aspect=3)"
   ]
  },
  {
   "cell_type": "markdown",
   "metadata": {},
   "source": [
    "## 3.3. Qual a evolução dos mortos?"
   ]
  },
  {
   "cell_type": "code",
   "execution_count": 40,
   "metadata": {},
   "outputs": [
    {
     "data": {
      "text/plain": [
       "<seaborn.axisgrid.FacetGrid at 0x7fb4526694b0>"
      ]
     },
     "execution_count": 40,
     "metadata": {},
     "output_type": "execute_result"
    },
    {
     "data": {
      "image/png": "[encoded data removed]",
      "text/plain": [
       "<Figure size 1500x500 with 1 Axes>"
      ]
     },
     "metadata": {},
     "output_type": "display_data"
    }
   ],
   "source": [
    "sns.relplot(data=df_brasil, x=\"data_observacao\", y=\"mortes\", kind=\"line\", aspect=3)"
   ]
  },
  {
   "cell_type": "markdown",
   "metadata": {},
   "source": [
    "## 3.3 Qual a taxa de crescimento médio da covid?"
   ]
  }
 ],
 "metadata": {
  "kernelspec": {
   "display_name": "Python 3.10.6 64-bit",
   "language": "python",
   "name": "python3"
  },
  "language_info": {
   "codemirror_mode": {
    "name": "ipython",
    "version": 3
   },
   "file_extension": ".py",
   "mimetype": "text/x-python",
   "name": "python",
   "nbconvert_exporter": "python",
   "pygments_lexer": "ipython3",
   "version": "3.10.6"
  },
  "orig_nbformat": 4,
  "vscode": {
   "interpreter": {
    "hash": "916dbcbb3f70747c44a77c7bcd40155683ae19c65e1c03b4aa3499c5328201f1"
   }
  }
 },
 "nbformat": 4,
 "nbformat_minor": 2
}
